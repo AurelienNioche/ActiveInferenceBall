{
 "cells": [
  {
   "cell_type": "code",
   "execution_count": 24,
   "id": "initial_id",
   "metadata": {
    "collapsed": true,
    "ExecuteTime": {
     "end_time": "2023-10-03T10:56:35.982348Z",
     "start_time": "2023-10-03T10:56:35.969020Z"
    }
   },
   "outputs": [],
   "source": [
    "import numpy as np\n",
    "from scipy.stats import norm\n",
    "from scipy.special import softmax\n",
    "from model.helpers import square_exponential_kernel, normalize_last_column\n",
    "\n",
    "np.random.seed(123)\n",
    "\n",
    "n_timestep = 10\n",
    "n_velocity = 20\n",
    "n_action = 2\n",
    "n_position = 50\n",
    "min_position, max_position = 0.0, 4.0\n",
    "min_velocity, max_velocity = -2.0, 4.0\n",
    "min_timestep, max_timestep = 0.0, 1.0\n",
    "\n",
    "timestep = np.linspace(min_timestep, max_timestep, n_timestep)\n",
    "\n",
    "velocity = np.linspace(min_velocity, max_velocity, n_velocity)\n",
    "action = np.arange(n_action)\n",
    "position = np.linspace(min_position, max_position,n_position)\n",
    "\n",
    "friction_factor = 0.5\n",
    "\n",
    "mu = 0.5 + 0.5*np.cos(6*(timestep + 5))\n",
    "sigma = square_exponential_kernel(timestep, 0.05,  0.1)\n",
    "own_force = np.random.multivariate_normal(mu, sigma, size=300)\n",
    "\n",
    "mu = 0.4 + 2*np.cos(3 * (timestep - 2))\n",
    "sigma = square_exponential_kernel(timestep, 0.05,  0.1)\n",
    "push_effect = np.random.multivariate_normal(mu, sigma, size=300)\n",
    "\n",
    "sigma_transition_position = 0.05\n",
    "\n",
    "# Compute preferences ------------------------------------------------------------------------------------\n",
    "\n",
    "log_prior = np.log(softmax(np.arange(n_position)))\n",
    "\n",
    "# Compute velocity transitions --------------------------------------------------------------------------\n",
    "\n",
    "\n",
    "def build_transition_velocity_tavv():\n",
    "\n",
    "    tr = np.zeros((n_timestep, n_action, n_velocity, n_velocity))\n",
    "    n_sample = push_effect.shape[0]\n",
    "    bins = list(velocity) + [velocity[-1] + (velocity[-1] - velocity[-2])]\n",
    "\n",
    "    after_friction = velocity - friction_factor*velocity  # Shape=(n_velocity,)\n",
    "    after_friction = np.tile(after_friction, (n_action, n_sample, n_timestep, 1))  # Shape=(n_action, n_sample, n_timestep, n_velocity,)\n",
    "\n",
    "    action_effect = np.tile(push_effect, (n_action, n_velocity, 1, 1, ))  # Shape=(n_action, n_velocity, n_sample, n_timestep,)\n",
    "    action_effect = np.moveaxis(action_effect, 1, -1)                   # Shape=(n_action, n_sample, n_timestep, n_velocity,)\n",
    "    action_effect[0] = 0  # Taking action 0 has no effect, taking action 1 is pushing\n",
    "\n",
    "    own_force_tiled = np.tile(own_force, (n_action, n_velocity, 1, 1, ))        # Shape=(n_action, n_velocity, n_sample, n_timestep,)\n",
    "    own_force_tiled = np.moveaxis(own_force_tiled, 1, -1)                      # Shape=(n_action, n_sample, n_timestep, n_velocity,)\n",
    "\n",
    "    new_v = after_friction + action_effect + own_force_tiled\n",
    "    new_v = np.clip(new_v, bins[0], bins[-1])\n",
    "\n",
    "    for v_idx, v in enumerate(velocity):\n",
    "        for a_idx, a in enumerate(action):\n",
    "            for t_idx, t in enumerate(timestep):\n",
    "                tr[t_idx, a, v_idx, :], _ = np.histogram(new_v[a, :, t_idx, v_idx], bins=bins)\n",
    "    return normalize_last_column(tr)\n",
    "\n",
    "\n",
    "transition_velocity_tavv_REF = build_transition_velocity_tavv()"
   ]
  },
  {
   "cell_type": "code",
   "execution_count": 97,
   "outputs": [
    {
     "name": "stdout",
     "output_type": "stream",
     "text": [
      "(1, 1, 1, 20)\n",
      "(1, 300, 10, 1)\n",
      "(2, 300, 10, 20)\n"
     ]
    },
    {
     "data": {
      "text/plain": "True"
     },
     "execution_count": 97,
     "metadata": {},
     "output_type": "execute_result"
    }
   ],
   "source": [
    "tr = np.zeros((n_timestep, n_action, n_velocity, n_velocity))\n",
    "\n",
    "n_sample = push_effect.shape[0]\n",
    "bins = list(velocity) + [velocity[-1] + (velocity[-1] - velocity[-2])]\n",
    "\n",
    "after_friction = velocity - friction_factor*velocity  # Shape=(n_velocity,)\n",
    "after_friction = np.expand_dims(after_friction, (0, 1, 2)) \n",
    "\n",
    "push__ext = np.expand_dims(push_effect, (0, -1))\n",
    "action_effect = np.vstack((np.zeros_like(push__ext), push__ext))\n",
    "\n",
    "own_force__ext = np.expand_dims(own_force, (0,  -1))\n",
    "\n",
    "new_v = after_friction + action_effect + own_force__ext\n",
    "new_v = np.clip(new_v, bins[0], bins[-1])\n",
    "\n",
    "for v_idx, v in enumerate(velocity):\n",
    "    for a_idx, a in enumerate(action):\n",
    "        for t_idx, t in enumerate(timestep):\n",
    "            tr[t_idx, a, v_idx, :], _ = np.histogram(new_v[a, :, t_idx, v_idx], bins=bins)\n",
    "tr = normalize_last_column(tr)\n",
    "\n",
    "np.sum(tr == transition_velocity_tavv_REF) == np.size(tr)"
   ],
   "metadata": {
    "collapsed": false,
    "ExecuteTime": {
     "end_time": "2023-10-03T14:04:16.396506Z",
     "start_time": "2023-10-03T14:04:16.376783Z"
    }
   },
   "id": "d32a047644c1efc3"
  },
  {
   "cell_type": "code",
   "execution_count": 31,
   "outputs": [
    {
     "data": {
      "text/plain": "(10, 2, 20, 20)"
     },
     "execution_count": 31,
     "metadata": {},
     "output_type": "execute_result"
    }
   ],
   "source": [
    "(n_timestep, n_action, n_velocity, n_velocity)"
   ],
   "metadata": {
    "collapsed": false,
    "ExecuteTime": {
     "end_time": "2023-10-03T11:00:45.906980Z",
     "start_time": "2023-10-03T11:00:45.896941Z"
    }
   },
   "id": "1baf861718b172c0"
  },
  {
   "cell_type": "code",
   "execution_count": 91,
   "outputs": [],
   "source": [
    "action_effect = np.expand_dims(push_effect, -1)  # Shape=(n_action, n_velocity, n_sample, n_timestep,)\n",
    "action_effect = np.tile(action_effect, (n_action, 1, 1, 1))       # Shape=(n_action, n_sample, n_timestep, n_velocity)\n",
    "action_effect[0] = 0  # Taking action 0 has no effect, taking action 1 is pushing\n",
    "action_effect_REF = action_effect.copy()"
   ],
   "metadata": {
    "collapsed": false,
    "ExecuteTime": {
     "end_time": "2023-10-03T13:47:18.590168Z",
     "start_time": "2023-10-03T13:47:18.582501Z"
    }
   },
   "id": "c2678475ae6c89dc"
  },
  {
   "cell_type": "code",
   "execution_count": 96,
   "outputs": [
    {
     "ename": "TypeError",
     "evalue": "vstack() takes 1 positional argument but 2 were given",
     "output_type": "error",
     "traceback": [
      "\u001B[0;31m---------------------------------------------------------------------------\u001B[0m",
      "\u001B[0;31mTypeError\u001B[0m                                 Traceback (most recent call last)",
      "Cell \u001B[0;32mIn [96], line 2\u001B[0m\n\u001B[1;32m      1\u001B[0m ex_push \u001B[38;5;241m=\u001B[39m np\u001B[38;5;241m.\u001B[39mexpand_dims(push_effect, (\u001B[38;5;241m0\u001B[39m, \u001B[38;5;241m-\u001B[39m\u001B[38;5;241m1\u001B[39m))\n\u001B[0;32m----> 2\u001B[0m action_effect \u001B[38;5;241m=\u001B[39m \u001B[43mnp\u001B[49m\u001B[38;5;241;43m.\u001B[39;49m\u001B[43mvstack\u001B[49m\u001B[43m(\u001B[49m\u001B[43mnp\u001B[49m\u001B[38;5;241;43m.\u001B[39;49m\u001B[43mzeros_like\u001B[49m\u001B[43m(\u001B[49m\u001B[43mex_push\u001B[49m\u001B[43m)\u001B[49m\u001B[43m,\u001B[49m\u001B[43m \u001B[49m\u001B[43mex_push\u001B[49m\u001B[43m)\u001B[49m\n\u001B[1;32m      3\u001B[0m np\u001B[38;5;241m.\u001B[39mallclose(action_effect, action_effect_REF)\n",
      "\u001B[0;31mTypeError\u001B[0m: vstack() takes 1 positional argument but 2 were given"
     ]
    }
   ],
   "source": [
    "ex_push = np.expand_dims(push_effect, (0, -1))\n",
    "action_effect = np.vstack((np.zeros_like(ex_push), ex_push))"
   ],
   "metadata": {
    "collapsed": false,
    "ExecuteTime": {
     "end_time": "2023-10-03T13:48:04.812525Z",
     "start_time": "2023-10-03T13:48:04.806028Z"
    }
   },
   "id": "29f77b052da48104"
  },
  {
   "cell_type": "code",
   "execution_count": 94,
   "outputs": [
    {
     "data": {
      "text/plain": "array([[[[ 2.35703553],\n         [ 1.98193337],\n         [ 1.5601852 ],\n         ...,\n         [-1.40661336],\n         [-1.59026652],\n         [-1.53794062]],\n\n        [[ 2.37714356],\n         [ 2.04181282],\n         [ 1.5841272 ],\n         ...,\n         [-1.46540313],\n         [-1.59363559],\n         [-1.57530219]],\n\n        [[ 2.26525167],\n         [ 1.99484961],\n         [ 1.5910496 ],\n         ...,\n         [-1.28683901],\n         [-1.52019511],\n         [-1.56496372]],\n\n        ...,\n\n        [[ 2.32653771],\n         [ 2.06949327],\n         [ 1.65530835],\n         ...,\n         [-1.360897  ],\n         [-1.56134017],\n         [-1.59369984]],\n\n        [[ 2.34453817],\n         [ 1.994362  ],\n         [ 1.51033785],\n         ...,\n         [-1.33656291],\n         [-1.44537049],\n         [-1.41867188]],\n\n        [[ 2.2783719 ],\n         [ 1.95926497],\n         [ 1.49790525],\n         ...,\n         [-1.3927156 ],\n         [-1.61188172],\n         [-1.5279807 ]]],\n\n\n       [[[ 0.        ],\n         [ 0.        ],\n         [ 0.        ],\n         ...,\n         [ 0.        ],\n         [ 0.        ],\n         [ 0.        ]],\n\n        [[ 0.        ],\n         [ 0.        ],\n         [ 0.        ],\n         ...,\n         [ 0.        ],\n         [ 0.        ],\n         [ 0.        ]],\n\n        [[ 0.        ],\n         [ 0.        ],\n         [ 0.        ],\n         ...,\n         [ 0.        ],\n         [ 0.        ],\n         [ 0.        ]],\n\n        ...,\n\n        [[ 0.        ],\n         [ 0.        ],\n         [ 0.        ],\n         ...,\n         [ 0.        ],\n         [ 0.        ],\n         [ 0.        ]],\n\n        [[ 0.        ],\n         [ 0.        ],\n         [ 0.        ],\n         ...,\n         [ 0.        ],\n         [ 0.        ],\n         [ 0.        ]],\n\n        [[ 0.        ],\n         [ 0.        ],\n         [ 0.        ],\n         ...,\n         [ 0.        ],\n         [ 0.        ],\n         [ 0.        ]]]])"
     },
     "execution_count": 94,
     "metadata": {},
     "output_type": "execute_result"
    }
   ],
   "source": [
    "action_effect"
   ],
   "metadata": {
    "collapsed": false,
    "ExecuteTime": {
     "end_time": "2023-10-03T13:47:41.673910Z",
     "start_time": "2023-10-03T13:47:41.664772Z"
    }
   },
   "id": "fb61d8c3c976cabb"
  },
  {
   "cell_type": "code",
   "execution_count": 76,
   "outputs": [
    {
     "name": "stdout",
     "output_type": "stream",
     "text": [
      "(1, 300, 10)\n"
     ]
    },
    {
     "data": {
      "text/plain": "(2, 300, 10)"
     },
     "execution_count": 76,
     "metadata": {},
     "output_type": "execute_result"
    }
   ],
   "source": [],
   "metadata": {
    "collapsed": false,
    "ExecuteTime": {
     "end_time": "2023-10-03T13:41:46.680363Z",
     "start_time": "2023-10-03T13:41:46.671485Z"
    }
   },
   "id": "cd7b703861c929e6"
  },
  {
   "cell_type": "code",
   "execution_count": 69,
   "outputs": [
    {
     "data": {
      "text/plain": "(300, 10, 1)"
     },
     "execution_count": 69,
     "metadata": {},
     "output_type": "execute_result"
    }
   ],
   "source": [
    " np.expand_dims(push_effect, -1)"
   ],
   "metadata": {
    "collapsed": false,
    "ExecuteTime": {
     "end_time": "2023-10-03T13:40:26.580176Z",
     "start_time": "2023-10-03T13:40:26.573581Z"
    }
   },
   "id": "6442ad0917fc2c25"
  },
  {
   "cell_type": "code",
   "execution_count": null,
   "outputs": [],
   "source": [],
   "metadata": {
    "collapsed": false
   },
   "id": "f228afc28b37f630"
  }
 ],
 "metadata": {
  "kernelspec": {
   "display_name": "Python 3",
   "language": "python",
   "name": "python3"
  },
  "language_info": {
   "codemirror_mode": {
    "name": "ipython",
    "version": 2
   },
   "file_extension": ".py",
   "mimetype": "text/x-python",
   "name": "python",
   "nbconvert_exporter": "python",
   "pygments_lexer": "ipython2",
   "version": "2.7.6"
  }
 },
 "nbformat": 4,
 "nbformat_minor": 5
}
