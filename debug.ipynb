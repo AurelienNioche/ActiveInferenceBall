{
 "cells": [
  {
   "cell_type": "code",
   "execution_count": 17,
   "id": "initial_id",
   "metadata": {
    "collapsed": true,
    "ExecuteTime": {
     "end_time": "2023-10-02T16:54:24.156433Z",
     "start_time": "2023-10-02T16:54:24.147810Z"
    }
   },
   "outputs": [],
   "source": [
    "from model.velocity_and_position.base import *"
   ]
  },
  {
   "cell_type": "code",
   "execution_count": 18,
   "outputs": [],
   "source": [
    "tr = np.zeros((n_action, n_timestep, n_position, n_velocity, n_velocity))\n",
    "bins = list(velocity) + [velocity[-1] + (velocity[-1] - velocity[-2])]\n",
    "after_friction = velocity - friction_factor * velocity  # Shape=(n_velocity,)\n",
    "for a in action:\n",
    "    for v_idx, v in enumerate(velocity):\n",
    "        for t_idx, t in enumerate(timestep):\n",
    "            for p_idx, p in enumerate(position):\n",
    "                new_v = after_friction[v_idx] + force[:, a, t_idx, p_idx]  # Shape=(n_sample,)\n",
    "                new_v = np.clip(new_v, min(velocity), max(velocity))\n",
    "                tr[a, t_idx, p_idx, v_idx, :], _ = np.histogram(new_v, bins=bins)\n",
    "tr_ref = normalize_last_column(tr)"
   ],
   "metadata": {
    "collapsed": false,
    "ExecuteTime": {
     "end_time": "2023-10-02T16:54:24.806993Z",
     "start_time": "2023-10-02T16:54:24.425651Z"
    }
   },
   "id": "aa4f1b4758edd53a"
  },
  {
   "cell_type": "code",
   "execution_count": 19,
   "outputs": [
    {
     "name": "stdout",
     "output_type": "stream",
     "text": [
      "2\n"
     ]
    }
   ],
   "source": [
    "print(n_action)"
   ],
   "metadata": {
    "collapsed": false,
    "ExecuteTime": {
     "end_time": "2023-10-02T16:54:24.811367Z",
     "start_time": "2023-10-02T16:54:24.807648Z"
    }
   },
   "id": "742bcdb0209143df"
  },
  {
   "cell_type": "code",
   "execution_count": 20,
   "outputs": [
    {
     "name": "stdout",
     "output_type": "stream",
     "text": [
      "300\n"
     ]
    }
   ],
   "source": [
    "print(n_timestep*n_position)"
   ],
   "metadata": {
    "collapsed": false,
    "ExecuteTime": {
     "end_time": "2023-10-02T16:54:25.012158Z",
     "start_time": "2023-10-02T16:54:25.009578Z"
    }
   },
   "id": "80cd17653462c48"
  },
  {
   "cell_type": "code",
   "execution_count": 20,
   "outputs": [],
   "source": [],
   "metadata": {
    "collapsed": false,
    "ExecuteTime": {
     "end_time": "2023-10-02T16:54:25.354455Z",
     "start_time": "2023-10-02T16:54:25.352669Z"
    }
   },
   "id": "56dbe46347b49c53"
  },
  {
   "cell_type": "code",
   "execution_count": 21,
   "outputs": [],
   "source": [
    "tr = np.zeros((n_action, n_timestep, n_position, n_velocity, n_velocity))\n",
    "bins = list(velocity) + [velocity[-1] + (velocity[-1] - velocity[-2])]\n",
    "after_friction = velocity - friction_factor * velocity  # Shape=(n_velocity,)\n",
    "exp_after_friction = np.expand_dims(after_friction[:], tuple(range(len(force.shape))))  # Shape=(1, 1, 1, 1, n_velocity,)\n",
    "exp_force = np.expand_dims(force, -1)  # Shape=(n_sample, n_action, n_timestep, n_position, 1)\n",
    "new_v = exp_after_friction + exp_force # Shape=(n_sample, n_action, n_timestep, n_position, n_velocity)\n",
    "new_v = np.clip(new_v, min_velocity, max_velocity)\n",
    "for a_idx in range(n_action):\n",
    "    for t_idx in range(n_timestep):\n",
    "        for p_idx in range(n_position):\n",
    "            for v_idx in range(n_velocity):\n",
    "                idx = a_idx, t_idx, p_idx, v_idx\n",
    "                tr[a_idx, t_idx, p_idx, v_idx, :], _ = np.histogram(new_v[:, a_idx, t_idx, p_idx, v_idx], bins=bins)\n",
    "tr = normalize_last_column(tr)"
   ],
   "metadata": {
    "collapsed": false,
    "ExecuteTime": {
     "end_time": "2023-10-02T16:54:25.878703Z",
     "start_time": "2023-10-02T16:54:25.665555Z"
    }
   },
   "id": "87894b740308b8b1"
  },
  {
   "cell_type": "code",
   "execution_count": 22,
   "outputs": [
    {
     "data": {
      "text/plain": "(1, 1, 1, 20, 1)"
     },
     "execution_count": 22,
     "metadata": {},
     "output_type": "execute_result"
    }
   ],
   "source": [
    "np.expand_dims(after_friction[:], (0, 1, 2, -1)).shape"
   ],
   "metadata": {
    "collapsed": false,
    "ExecuteTime": {
     "end_time": "2023-10-02T16:54:26.144131Z",
     "start_time": "2023-10-02T16:54:26.139407Z"
    }
   },
   "id": "7b435ca07e193680"
  },
  {
   "cell_type": "code",
   "execution_count": 23,
   "outputs": [
    {
     "data": {
      "text/plain": "True"
     },
     "execution_count": 23,
     "metadata": {},
     "output_type": "execute_result"
    }
   ],
   "source": [
    "np.sum(tr == tr_ref) == len(tr.ravel())"
   ],
   "metadata": {
    "collapsed": false,
    "ExecuteTime": {
     "end_time": "2023-10-02T16:54:53.769487Z",
     "start_time": "2023-10-02T16:54:53.765288Z"
    }
   },
   "id": "ac4e3570a571591d"
  },
  {
   "cell_type": "code",
   "execution_count": 20,
   "outputs": [
    {
     "data": {
      "text/plain": "20"
     },
     "execution_count": 20,
     "metadata": {},
     "output_type": "execute_result"
    }
   ],
   "source": [
    "n_velocity"
   ],
   "metadata": {
    "collapsed": false,
    "ExecuteTime": {
     "end_time": "2023-10-02T16:19:03.301797Z",
     "start_time": "2023-10-02T16:19:03.290705Z"
    }
   },
   "id": "e10d4973eb474ad8"
  },
  {
   "cell_type": "code",
   "execution_count": 24,
   "outputs": [
    {
     "data": {
      "text/plain": "(4, 5, 3)"
     },
     "execution_count": 24,
     "metadata": {},
     "output_type": "execute_result"
    }
   ],
   "source": [
    "(np.expand_dims(np.random.random(size=3), (0, 1)) + np.expand_dims(np.random.random(size=(4, 5)), -1)).shape"
   ],
   "metadata": {
    "collapsed": false,
    "ExecuteTime": {
     "end_time": "2023-10-02T16:20:53.778109Z",
     "start_time": "2023-10-02T16:20:53.768009Z"
    }
   },
   "id": "5564bc96c10dbef"
  },
  {
   "cell_type": "code",
   "execution_count": 32,
   "outputs": [
    {
     "data": {
      "text/plain": "(1, 1, 1, 1, 20)"
     },
     "execution_count": 32,
     "metadata": {},
     "output_type": "execute_result"
    }
   ],
   "source": [
    "np.expand_dims(after_friction[:], tuple(range(len(force.shape)))).shape"
   ],
   "metadata": {
    "collapsed": false,
    "ExecuteTime": {
     "end_time": "2023-10-02T16:22:57.827588Z",
     "start_time": "2023-10-02T16:22:57.824370Z"
    }
   },
   "id": "22c01f167a7913d9"
  },
  {
   "cell_type": "code",
   "execution_count": 41,
   "outputs": [],
   "source": [
    "exp_force = np.expand_dims(force[:, :, :, :], -1)"
   ],
   "metadata": {
    "collapsed": false,
    "ExecuteTime": {
     "end_time": "2023-10-02T16:27:36.883911Z",
     "start_time": "2023-10-02T16:27:36.874852Z"
    }
   },
   "id": "ad304cefa9f34bf9"
  },
  {
   "cell_type": "code",
   "execution_count": 37,
   "outputs": [
    {
     "data": {
      "text/plain": "(2, 300, 6, 50)"
     },
     "execution_count": 37,
     "metadata": {},
     "output_type": "execute_result"
    }
   ],
   "source": [
    "force.shape"
   ],
   "metadata": {
    "collapsed": false,
    "ExecuteTime": {
     "end_time": "2023-10-02T16:26:50.246257Z",
     "start_time": "2023-10-02T16:26:50.228822Z"
    }
   },
   "id": "35709a35477868a"
  },
  {
   "cell_type": "code",
   "execution_count": 39,
   "outputs": [],
   "source": [
    "exp_after_friction = np.expand_dims(after_friction[:], tuple(range(len(force.shape))))"
   ],
   "metadata": {
    "collapsed": false,
    "ExecuteTime": {
     "end_time": "2023-10-02T16:27:15.086264Z",
     "start_time": "2023-10-02T16:27:15.079450Z"
    }
   },
   "id": "6b2d281c1820371f"
  },
  {
   "cell_type": "code",
   "execution_count": 40,
   "outputs": [
    {
     "ename": "ValueError",
     "evalue": "operands could not be broadcast together with shapes (1,1,1,1,20) (2,300,6,50) ",
     "output_type": "error",
     "traceback": [
      "\u001B[0;31m---------------------------------------------------------------------------\u001B[0m",
      "\u001B[0;31mValueError\u001B[0m                                Traceback (most recent call last)",
      "Cell \u001B[0;32mIn [40], line 1\u001B[0m\n\u001B[0;32m----> 1\u001B[0m \u001B[43mexp_after_friction\u001B[49m\u001B[43m \u001B[49m\u001B[38;5;241;43m+\u001B[39;49m\u001B[43m \u001B[49m\u001B[43mforce\u001B[49m\n",
      "\u001B[0;31mValueError\u001B[0m: operands could not be broadcast together with shapes (1,1,1,1,20) (2,300,6,50) "
     ]
    }
   ],
   "source": [
    "exp_after_friction + force"
   ],
   "metadata": {
    "collapsed": false,
    "ExecuteTime": {
     "end_time": "2023-10-02T16:27:21.853774Z",
     "start_time": "2023-10-02T16:27:21.845118Z"
    }
   },
   "id": "52f030db99d9cf55"
  },
  {
   "cell_type": "code",
   "execution_count": 42,
   "outputs": [
    {
     "data": {
      "text/plain": "(2, 300, 6, 50, 1)"
     },
     "execution_count": 42,
     "metadata": {},
     "output_type": "execute_result"
    }
   ],
   "source": [
    "exp_force.shape"
   ],
   "metadata": {
    "collapsed": false,
    "ExecuteTime": {
     "end_time": "2023-10-02T16:28:16.157868Z",
     "start_time": "2023-10-02T16:28:16.148822Z"
    }
   },
   "id": "48ac38f283379d64"
  },
  {
   "cell_type": "code",
   "execution_count": 44,
   "outputs": [
    {
     "data": {
      "text/plain": "(2, 300, 6, 50, 20)"
     },
     "execution_count": 44,
     "metadata": {},
     "output_type": "execute_result"
    }
   ],
   "source": [
    "(exp_after_friction + exp_force).shape"
   ],
   "metadata": {
    "collapsed": false,
    "ExecuteTime": {
     "end_time": "2023-10-02T16:28:35.379017Z",
     "start_time": "2023-10-02T16:28:35.370719Z"
    }
   },
   "id": "f62a28e311121def"
  },
  {
   "cell_type": "code",
   "execution_count": null,
   "outputs": [],
   "source": [],
   "metadata": {
    "collapsed": false
   },
   "id": "b6c3038d451185be"
  }
 ],
 "metadata": {
  "kernelspec": {
   "display_name": "Python 3",
   "language": "python",
   "name": "python3"
  },
  "language_info": {
   "codemirror_mode": {
    "name": "ipython",
    "version": 2
   },
   "file_extension": ".py",
   "mimetype": "text/x-python",
   "name": "python",
   "nbconvert_exporter": "python",
   "pygments_lexer": "ipython2",
   "version": "2.7.6"
  }
 },
 "nbformat": 4,
 "nbformat_minor": 5
}
